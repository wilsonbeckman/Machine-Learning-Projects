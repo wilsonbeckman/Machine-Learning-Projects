{
 "cells": [
  {
   "cell_type": "markdown",
   "id": "e0a06198",
   "metadata": {},
   "source": [
    "Welcome to my first ML project using Google Cloud!\n",
    "\n",
    "I'm looking to build an action recognition model that detects the different swimming strokes using a CNN-GRU and Long Short Term Memory model and use research to support the strongest model possible. I'll build by own model for each and then compare and contrast the model using transfer learning.\n",
    "\n",
    "The purpose of this project is to exercise my ML knowledge and get outside my comfort zone.\n",
    "\n",
    "Here's what I hope to learn:\n",
    "1.Building some data pipelines and API's\n",
    "2.Merging two datasets together and modeling the data appropriately\n",
    "3.Building my own Computer Vision Models using research and reading papers and learning to evaluate each against some pre-built models\n",
    "4.Learn some basic functionality of Google Cloud as it pertains to machine learning. \n",
    "5.Sharpen my overall skills as a Data Scientist and Overcome any bumps along the way.\n",
    "\n",
    "\n",
    "Steps to success:\n",
    "1.Download and Store the Data In Google Cloud\n",
    "2.Clean and Model the Data For Success\n",
    "3.Research how to build proper LSTM and CNN-GRU models\n",
    "4.Find the appropriate transfer learning models to compare with\n",
    "5.Evaluate the models and optimize parameters to find the most efficient models"
   ]
  },
  {
   "cell_type": "code",
   "execution_count": 1,
   "id": "01988942",
   "metadata": {},
   "outputs": [
    {
     "name": "stdout",
     "output_type": "stream",
     "text": [
      "Requirement already satisfied: tensorflow in /Users/wilsonbeckman/opt/anaconda3/lib/python3.9/site-packages (2.11.0)\n",
      "Requirement already satisfied: absl-py>=1.0.0 in /Users/wilsonbeckman/opt/anaconda3/lib/python3.9/site-packages (from tensorflow) (1.3.0)\n",
      "Collecting protobuf<3.20,>=3.9.2\n",
      "  Using cached protobuf-3.19.6-cp39-cp39-macosx_10_9_x86_64.whl (980 kB)\n",
      "Requirement already satisfied: six>=1.12.0 in /Users/wilsonbeckman/opt/anaconda3/lib/python3.9/site-packages (from tensorflow) (1.16.0)\n",
      "Requirement already satisfied: gast<=0.4.0,>=0.2.1 in /Users/wilsonbeckman/opt/anaconda3/lib/python3.9/site-packages (from tensorflow) (0.4.0)\n",
      "Requirement already satisfied: keras<2.12,>=2.11.0 in /Users/wilsonbeckman/opt/anaconda3/lib/python3.9/site-packages (from tensorflow) (2.11.0)\n",
      "Requirement already satisfied: typing-extensions>=3.6.6 in /Users/wilsonbeckman/opt/anaconda3/lib/python3.9/site-packages (from tensorflow) (4.4.0)\n",
      "Requirement already satisfied: astunparse>=1.6.0 in /Users/wilsonbeckman/opt/anaconda3/lib/python3.9/site-packages (from tensorflow) (1.6.3)\n",
      "Requirement already satisfied: grpcio<2.0,>=1.24.3 in /Users/wilsonbeckman/opt/anaconda3/lib/python3.9/site-packages (from tensorflow) (1.42.0)\n",
      "Requirement already satisfied: tensorflow-estimator<2.12,>=2.11.0 in /Users/wilsonbeckman/opt/anaconda3/lib/python3.9/site-packages (from tensorflow) (2.11.0)\n",
      "Requirement already satisfied: packaging in /Users/wilsonbeckman/opt/anaconda3/lib/python3.9/site-packages (from tensorflow) (23.0)\n",
      "Requirement already satisfied: flatbuffers>=2.0 in /Users/wilsonbeckman/opt/anaconda3/lib/python3.9/site-packages (from tensorflow) (20210226132247)\n",
      "Requirement already satisfied: h5py>=2.9.0 in /Users/wilsonbeckman/opt/anaconda3/lib/python3.9/site-packages (from tensorflow) (3.7.0)\n",
      "Requirement already satisfied: opt-einsum>=2.3.2 in /Users/wilsonbeckman/opt/anaconda3/lib/python3.9/site-packages (from tensorflow) (3.3.0)\n",
      "Requirement already satisfied: libclang>=13.0.0 in /Users/wilsonbeckman/opt/anaconda3/lib/python3.9/site-packages (from tensorflow) (14.0.6)\n",
      "Requirement already satisfied: tensorflow-io-gcs-filesystem>=0.23.1 in /Users/wilsonbeckman/opt/anaconda3/lib/python3.9/site-packages (from tensorflow) (0.29.0)\n",
      "Requirement already satisfied: numpy>=1.20 in /Users/wilsonbeckman/opt/anaconda3/lib/python3.9/site-packages (from tensorflow) (1.22.3)\n",
      "Requirement already satisfied: termcolor>=1.1.0 in /Users/wilsonbeckman/opt/anaconda3/lib/python3.9/site-packages (from tensorflow) (2.1.1)\n",
      "Requirement already satisfied: setuptools in /Users/wilsonbeckman/opt/anaconda3/lib/python3.9/site-packages (from tensorflow) (65.6.3)\n",
      "Requirement already satisfied: tensorboard<2.12,>=2.11 in /Users/wilsonbeckman/opt/anaconda3/lib/python3.9/site-packages (from tensorflow) (2.11.0)\n",
      "Requirement already satisfied: google-pasta>=0.1.1 in /Users/wilsonbeckman/opt/anaconda3/lib/python3.9/site-packages (from tensorflow) (0.2.0)\n",
      "Requirement already satisfied: wrapt>=1.11.0 in /Users/wilsonbeckman/opt/anaconda3/lib/python3.9/site-packages (from tensorflow) (1.14.1)\n",
      "Requirement already satisfied: wheel<1.0,>=0.23.0 in /Users/wilsonbeckman/opt/anaconda3/lib/python3.9/site-packages (from astunparse>=1.6.0->tensorflow) (0.35.1)\n",
      "Requirement already satisfied: tensorboard-data-server<0.7.0,>=0.6.0 in /Users/wilsonbeckman/opt/anaconda3/lib/python3.9/site-packages (from tensorboard<2.12,>=2.11->tensorflow) (0.6.1)\n",
      "Requirement already satisfied: google-auth<3,>=1.6.3 in /Users/wilsonbeckman/opt/anaconda3/lib/python3.9/site-packages (from tensorboard<2.12,>=2.11->tensorflow) (1.33.0)\n",
      "Requirement already satisfied: werkzeug>=1.0.1 in /Users/wilsonbeckman/opt/anaconda3/lib/python3.9/site-packages (from tensorboard<2.12,>=2.11->tensorflow) (2.2.3)\n",
      "Requirement already satisfied: google-auth-oauthlib<0.5,>=0.4.1 in /Users/wilsonbeckman/opt/anaconda3/lib/python3.9/site-packages (from tensorboard<2.12,>=2.11->tensorflow) (0.4.6)\n",
      "Requirement already satisfied: markdown>=2.6.8 in /Users/wilsonbeckman/opt/anaconda3/lib/python3.9/site-packages (from tensorboard<2.12,>=2.11->tensorflow) (3.4.1)\n",
      "Requirement already satisfied: requests<3,>=2.21.0 in /Users/wilsonbeckman/opt/anaconda3/lib/python3.9/site-packages (from tensorboard<2.12,>=2.11->tensorflow) (2.28.1)\n",
      "Requirement already satisfied: tensorboard-plugin-wit>=1.6.0 in /Users/wilsonbeckman/opt/anaconda3/lib/python3.9/site-packages (from tensorboard<2.12,>=2.11->tensorflow) (1.8.1)\n",
      "Requirement already satisfied: rsa<5,>=3.1.4 in /Users/wilsonbeckman/opt/anaconda3/lib/python3.9/site-packages (from google-auth<3,>=1.6.3->tensorboard<2.12,>=2.11->tensorflow) (4.7.2)\n",
      "Requirement already satisfied: pyasn1-modules>=0.2.1 in /Users/wilsonbeckman/opt/anaconda3/lib/python3.9/site-packages (from google-auth<3,>=1.6.3->tensorboard<2.12,>=2.11->tensorflow) (0.2.8)\n",
      "Requirement already satisfied: cachetools<5.0,>=2.0.0 in /Users/wilsonbeckman/opt/anaconda3/lib/python3.9/site-packages (from google-auth<3,>=1.6.3->tensorboard<2.12,>=2.11->tensorflow) (4.2.2)\n",
      "Requirement already satisfied: requests-oauthlib>=0.7.0 in /Users/wilsonbeckman/opt/anaconda3/lib/python3.9/site-packages (from google-auth-oauthlib<0.5,>=0.4.1->tensorboard<2.12,>=2.11->tensorflow) (1.3.1)\n",
      "Requirement already satisfied: importlib-metadata>=4.4 in /Users/wilsonbeckman/opt/anaconda3/lib/python3.9/site-packages (from markdown>=2.6.8->tensorboard<2.12,>=2.11->tensorflow) (6.0.0)\n",
      "Requirement already satisfied: charset-normalizer<3,>=2 in /Users/wilsonbeckman/opt/anaconda3/lib/python3.9/site-packages (from requests<3,>=2.21.0->tensorboard<2.12,>=2.11->tensorflow) (2.0.4)\n",
      "Requirement already satisfied: idna<4,>=2.5 in /Users/wilsonbeckman/opt/anaconda3/lib/python3.9/site-packages (from requests<3,>=2.21.0->tensorboard<2.12,>=2.11->tensorflow) (3.4)\n",
      "Requirement already satisfied: urllib3<1.27,>=1.21.1 in /Users/wilsonbeckman/opt/anaconda3/lib/python3.9/site-packages (from requests<3,>=2.21.0->tensorboard<2.12,>=2.11->tensorflow) (1.26.14)\n",
      "Requirement already satisfied: certifi>=2017.4.17 in /Users/wilsonbeckman/opt/anaconda3/lib/python3.9/site-packages (from requests<3,>=2.21.0->tensorboard<2.12,>=2.11->tensorflow) (2022.12.7)\n",
      "Requirement already satisfied: MarkupSafe>=2.1.1 in /Users/wilsonbeckman/opt/anaconda3/lib/python3.9/site-packages (from werkzeug>=1.0.1->tensorboard<2.12,>=2.11->tensorflow) (2.1.1)\n",
      "Requirement already satisfied: zipp>=0.5 in /Users/wilsonbeckman/opt/anaconda3/lib/python3.9/site-packages (from importlib-metadata>=4.4->markdown>=2.6.8->tensorboard<2.12,>=2.11->tensorflow) (3.11.0)\n",
      "Requirement already satisfied: pyasn1<0.5.0,>=0.4.6 in /Users/wilsonbeckman/opt/anaconda3/lib/python3.9/site-packages (from pyasn1-modules>=0.2.1->google-auth<3,>=1.6.3->tensorboard<2.12,>=2.11->tensorflow) (0.4.8)\n",
      "Requirement already satisfied: oauthlib>=3.0.0 in /Users/wilsonbeckman/opt/anaconda3/lib/python3.9/site-packages (from requests-oauthlib>=0.7.0->google-auth-oauthlib<0.5,>=0.4.1->tensorboard<2.12,>=2.11->tensorflow) (3.2.2)\n",
      "Installing collected packages: protobuf\n",
      "  Attempting uninstall: protobuf\n",
      "    Found existing installation: protobuf 3.20.3\n",
      "    Uninstalling protobuf-3.20.3:\n",
      "      Successfully uninstalled protobuf-3.20.3\n",
      "Successfully installed protobuf-3.19.6\n"
     ]
    }
   ],
   "source": [
    "!pip install tensorflow"
   ]
  },
  {
   "cell_type": "code",
   "execution_count": 36,
   "id": "394a51f4",
   "metadata": {},
   "outputs": [
    {
     "name": "stdout",
     "output_type": "stream",
     "text": [
      "Collecting git+https://github.com/pytube/pytube\n",
      "  Cloning https://github.com/pytube/pytube to /private/var/folders/kb/fxsdzvkd3tn7qtds435g0l880000gn/T/pip-req-build-egc7_mtx\n",
      "  Running command git clone --filter=blob:none --quiet https://github.com/pytube/pytube /private/var/folders/kb/fxsdzvkd3tn7qtds435g0l880000gn/T/pip-req-build-egc7_mtx\n",
      "  Resolved https://github.com/pytube/pytube to commit d3d18691b3e99b2d3b4d620446b088a1c32896c6\n",
      "  Preparing metadata (setup.py) ... \u001b[?25ldone\n",
      "\u001b[?25hNote: you may need to restart the kernel to use updated packages.\n"
     ]
    }
   ],
   "source": [
    "pip install git+https://github.com/pytube/pytube"
   ]
  },
  {
   "cell_type": "code",
   "execution_count": 37,
   "id": "26021192",
   "metadata": {},
   "outputs": [],
   "source": [
    "import tensorflow as tf\n",
    "from tensorflow import keras\n",
    "\n",
    "import numpy as np\n",
    "import matplotlib.pyplot as plt\n",
    "import pandas as pd\n",
    "\n",
    "import os\n",
    "import pytube"
   ]
  },
  {
   "cell_type": "code",
   "execution_count": 18,
   "id": "c694761a",
   "metadata": {},
   "outputs": [],
   "source": [
    "#Import csv files for downloading the data\n",
    "train_df = pd.read_csv('train.csv')\n",
    "val_df = pd.read_csv('validate.csv')"
   ]
  },
  {
   "cell_type": "code",
   "execution_count": 21,
   "id": "05d63521",
   "metadata": {},
   "outputs": [],
   "source": [
    "#Create Swimming Labels List\n",
    "swimming_labels = ['swimming backstroke', 'swimming butterfly stroke', \n",
    "                   'swimming breast stroke', 'swimming front crawl']\n",
    "\n",
    "#Reset DF's so it's just the swimming videos\n",
    "train_df = train_df[train_df.label.isin(swimming_labels)]\n",
    "val_df = val_df[val_df.label.isin(swimming_labels)]"
   ]
  },
  {
   "cell_type": "code",
   "execution_count": 39,
   "id": "003beb34",
   "metadata": {},
   "outputs": [],
   "source": [
    "#remove dashes\n",
    "train_df['youtube_id'] = train_df['youtube_id'].str.lstrip('-')\n",
    "val_df['youtube_id'] = val_df['youtube_id'].str.lstrip('-')\n",
    "\n",
    "df = pd.concat([train_df, val_df])"
   ]
  },
  {
   "cell_type": "code",
   "execution_count": null,
   "id": "112cecda",
   "metadata": {
    "scrolled": true
   },
   "outputs": [],
   "source": [
    "#Create directory\n",
    "os.makedirs(\"Training Videos\", exist_ok = True)\n",
    "os.makedirs(\"Validation Videos\", exist_ok = True)\n",
    "\n",
    "for index, row in df.iterrows():\n",
    "    #get the youtube id\n",
    "    video_id = row['youtube_id']\n",
    "    \n",
    "    #create youtube video url\n",
    "    url = f\"https://www.youtube.com/watch?v={video_id}\"\n",
    "    \n",
    "    if row['split'] == 'train':\n",
    "        directory = \"Training Videos\"\n",
    "    else:\n",
    "        directory = \"Validation Videos\"\n",
    "    \n",
    "    try:\n",
    "        youtube = pytube.YouTube(url)\n",
    "        video = youtube.streams.first()\n",
    "        video.download(directory, filename = f\"{row['label']}_{index}\")\n",
    "        print(f\"Downloaded video {index} to {directory}\")\n",
    "    except:\n",
    "        print(f\"Failed to download video {index}\")"
   ]
  }
 ],
 "metadata": {
  "kernelspec": {
   "display_name": "Python 3 (ipykernel)",
   "language": "python",
   "name": "python3"
  },
  "language_info": {
   "codemirror_mode": {
    "name": "ipython",
    "version": 3
   },
   "file_extension": ".py",
   "mimetype": "text/x-python",
   "name": "python",
   "nbconvert_exporter": "python",
   "pygments_lexer": "ipython3",
   "version": "3.9.13"
  }
 },
 "nbformat": 4,
 "nbformat_minor": 5
}
